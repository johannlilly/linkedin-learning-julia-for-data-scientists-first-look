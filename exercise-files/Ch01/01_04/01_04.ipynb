{
 "cells": [
  {
   "cell_type": "markdown",
   "metadata": {},
   "source": [
    "# Mathematical Formulas\n",
    "\n",
    "This is a concise demonstration of mathematical functionality in Julia. We'll need to use `Gadfly` for some graphing.\n",
    "\n",
    "## Install & Import Gadfly\n",
    "Note: Gadfly can take a while to install and then a while to precompile."
   ]
  },
  {
   "cell_type": "code",
   "execution_count": 1,
   "metadata": {
    "collapsed": false
   },
   "outputs": [
    {
     "output_type": "stream",
     "name": "stderr",
     "text": [
      "\u001b[32m\u001b[1m   Updating\u001b[22m\u001b[39m registry at `~/.julia/registries/General`\n",
      "\u001b[32m\u001b[1m  Resolving\u001b[22m\u001b[39m package versions...\n",
      "\u001b[32m\u001b[1mNo Changes\u001b[22m\u001b[39m to `~/.julia/environments/v1.5/Project.toml`\n",
      "\u001b[32m\u001b[1mNo Changes\u001b[22m\u001b[39m to `~/.julia/environments/v1.5/Manifest.toml`\n"
     ]
    }
   ],
   "source": [
    "using Pkg\n",
    "Pkg.add(\"Gadfly\")"
   ]
  },
  {
   "cell_type": "code",
   "execution_count": 2,
   "metadata": {
    "collapsed": false
   },
   "outputs": [],
   "source": [
    "using Gadfly"
   ]
  },
  {
   "cell_type": "markdown",
   "metadata": {},
   "source": [
    "## Math Functions\n",
    "Julia has all the usual math functions."
   ]
  },
  {
   "cell_type": "code",
   "execution_count": 4,
   "metadata": {
    "collapsed": false
   },
   "outputs": [
    {
     "output_type": "execute_result",
     "data": {
      "text/plain": [
       "0.9998182437676517"
      ]
     },
     "metadata": {},
     "execution_count": 4
    }
   ],
   "source": [
    "\n",
    "x =  sin(exp(atan(1,2)))"
   ]
  },
  {
   "cell_type": "code",
   "execution_count": 5,
   "metadata": {
    "collapsed": false
   },
   "outputs": [
    {
     "output_type": "execute_result",
     "data": {
      "text/plain": [
       "0.0 + 1.0im"
      ]
     },
     "metadata": {},
     "execution_count": 5
    }
   ],
   "source": [
    "z = 0.0+1.0im"
   ]
  },
  {
   "cell_type": "code",
   "execution_count": 6,
   "metadata": {
    "collapsed": false
   },
   "outputs": [
    {
     "output_type": "execute_result",
     "data": {
      "text/plain": [
       "0.0"
      ]
     },
     "metadata": {},
     "execution_count": 6
    }
   ],
   "source": [
    "real(z)"
   ]
  },
  {
   "cell_type": "markdown",
   "metadata": {},
   "source": [
    "Because type stability is very important for performance some functions will not switch automatically to complex numbers."
   ]
  },
  {
   "cell_type": "code",
   "execution_count": 7,
   "metadata": {
    "collapsed": false
   },
   "outputs": [
    {
     "output_type": "error",
     "ename": "LoadError",
     "evalue": "DomainError with -1.0:\nsqrt will only return a complex result if called with a complex argument. Try sqrt(Complex(x)).",
     "traceback": [
      "DomainError with -1.0:\nsqrt will only return a complex result if called with a complex argument. Try sqrt(Complex(x)).",
      "",
      "Stacktrace:",
      " [1] throw_complex_domainerror(::Symbol, ::Float64) at ./math.jl:33",
      " [2] sqrt at ./math.jl:573 [inlined]",
      " [3] sqrt(::Int64) at ./math.jl:599",
      " [4] top-level scope at In[7]:1",
      " [5] include_string(::Function, ::Module, ::String, ::String) at ./loading.jl:1091"
     ]
    }
   ],
   "source": [
    "sqrt(-1)"
   ]
  },
  {
   "cell_type": "code",
   "execution_count": 8,
   "metadata": {
    "collapsed": false
   },
   "outputs": [
    {
     "output_type": "execute_result",
     "data": {
      "text/plain": [
       "0.0 + 1.0im"
      ]
     },
     "metadata": {},
     "execution_count": 8
    }
   ],
   "source": [
    "sqrt(complex(-1))"
   ]
  },
  {
   "cell_type": "markdown",
   "metadata": {},
   "source": [
    "There are also special mathematical functions, such as the [Zeta function](http://math.stackexchange.com/questions/157045/explanation-of-zeta-function-and-why-1234-1-12)"
   ]
  },
  {
   "cell_type": "code",
   "execution_count": 9,
   "metadata": {
    "collapsed": false
   },
   "outputs": [
    {
     "output_type": "error",
     "ename": "LoadError",
     "evalue": "UndefVarError: zeta not defined",
     "traceback": [
      "UndefVarError: zeta not defined",
      "",
      "Stacktrace:",
      " [1] top-level scope at In[9]:1",
      " [2] include_string(::Function, ::Module, ::String, ::String) at ./loading.jl:1091"
     ]
    }
   ],
   "source": [
    "zeta(-1)"
   ]
  },
  {
   "cell_type": "markdown",
   "metadata": {},
   "source": [
    "Fourier transform."
   ]
  },
  {
   "cell_type": "code",
   "execution_count": 10,
   "metadata": {
    "collapsed": false
   },
   "outputs": [
    {
     "output_type": "error",
     "ename": "LoadError",
     "evalue": "UndefVarError: fft not defined",
     "traceback": [
      "UndefVarError: fft not defined",
      "",
      "Stacktrace:",
      " [1] top-level scope at In[10]:3",
      " [2] include_string(::Function, ::Module, ::String, ::String) at ./loading.jl:1091"
     ]
    }
   ],
   "source": [
    "f = zeros(101)\n",
    "f[51] = 1 \n",
    "F = fft(f)\n",
    "\n",
    "plot(x=collect(1:101), y=real(F))"
   ]
  },
  {
   "cell_type": "markdown",
   "metadata": {},
   "source": [
    "Integers can overflow if you're not careful."
   ]
  },
  {
   "cell_type": "code",
   "execution_count": 11,
   "metadata": {
    "collapsed": false
   },
   "outputs": [
    {
     "output_type": "execute_result",
     "data": {
      "text/plain": [
       "-5047021154770878464"
      ]
     },
     "metadata": {},
     "execution_count": 11
    }
   ],
   "source": [
    "10^40"
   ]
  },
  {
   "cell_type": "markdown",
   "metadata": {},
   "source": [
    "But you can get integers with arbitrary precision using `BigInt`."
   ]
  },
  {
   "cell_type": "code",
   "execution_count": 12,
   "metadata": {
    "collapsed": false
   },
   "outputs": [
    {
     "output_type": "execute_result",
     "data": {
      "text/plain": [
       "10000000000000000000000000000000000000000"
      ]
     },
     "metadata": {},
     "execution_count": 12
    }
   ],
   "source": [
    "BigInt(10)^40"
   ]
  },
  {
   "cell_type": "markdown",
   "metadata": {},
   "source": [
    "## Matrix functions"
   ]
  },
  {
   "cell_type": "code",
   "execution_count": 13,
   "metadata": {
    "collapsed": false
   },
   "outputs": [
    {
     "output_type": "execute_result",
     "data": {
      "text/plain": [
       "5×5 Array{Float64,2}:\n",
       " 0.962697  0.0950551  0.0501852  0.732542  0.983194\n",
       " 0.351531  0.0731243  0.5797     0.397478  0.945303\n",
       " 0.118232  0.205102   0.041537   0.666288  0.365704\n",
       " 0.096654  0.836662   0.286695   0.772794  0.511593\n",
       " 0.636733  0.390808   0.638605   0.71303   0.536199"
      ]
     },
     "metadata": {},
     "execution_count": 13
    }
   ],
   "source": [
    "A = rand(5,5)"
   ]
  },
  {
   "cell_type": "markdown",
   "metadata": {},
   "source": [
    "Get the determinant of a matrix."
   ]
  },
  {
   "cell_type": "code",
   "execution_count": 14,
   "metadata": {
    "collapsed": false
   },
   "outputs": [
    {
     "output_type": "error",
     "ename": "LoadError",
     "evalue": "UndefVarError: det not defined",
     "traceback": [
      "UndefVarError: det not defined",
      "",
      "Stacktrace:",
      " [1] top-level scope at In[14]:1",
      " [2] include_string(::Function, ::Module, ::String, ::String) at ./loading.jl:1091"
     ]
    }
   ],
   "source": [
    "det(A)"
   ]
  },
  {
   "cell_type": "markdown",
   "metadata": {},
   "source": [
    "Matrix multiplication."
   ]
  },
  {
   "cell_type": "code",
   "execution_count": 15,
   "metadata": {
    "collapsed": false
   },
   "outputs": [
    {
     "output_type": "execute_result",
     "data": {
      "text/plain": [
       "2×5 Array{Float64,2}:\n",
       " 0.16833   0.959199  0.421141  0.896081  0.701641\n",
       " 0.613447  0.160451  0.669877  0.342143  0.321627"
      ]
     },
     "metadata": {},
     "execution_count": 15
    }
   ],
   "source": [
    "b = rand(2,5)"
   ]
  },
  {
   "cell_type": "code",
   "execution_count": 16,
   "metadata": {
    "collapsed": false
   },
   "outputs": [
    {
     "output_type": "execute_result",
     "data": {
      "text/plain": [
       "2×5 Array{Float64,2}:\n",
       " 1.0824    1.19644  1.28696   1.97795  2.0609\n",
       " 0.964028  0.61939  0.455107  1.45322  1.34728"
      ]
     },
     "metadata": {},
     "execution_count": 16
    }
   ],
   "source": [
    "b*A"
   ]
  },
  {
   "cell_type": "markdown",
   "metadata": {},
   "source": [
    "Show A in the sparse matrix format."
   ]
  },
  {
   "cell_type": "code",
   "execution_count": 17,
   "metadata": {
    "collapsed": false
   },
   "outputs": [
    {
     "output_type": "error",
     "ename": "LoadError",
     "evalue": "UndefVarError: sparse not defined",
     "traceback": [
      "UndefVarError: sparse not defined",
      "",
      "Stacktrace:",
      " [1] top-level scope at In[17]:1",
      " [2] include_string(::Function, ::Module, ::String, ::String) at ./loading.jl:1091"
     ]
    }
   ],
   "source": [
    "sparse(A)"
   ]
  },
  {
   "cell_type": "markdown",
   "metadata": {},
   "source": [
    "## A more complicated example\n",
    "Compute the eigenfunctions of the diffusion operator (second derivative)."
   ]
  },
  {
   "cell_type": "code",
   "execution_count": 19,
   "metadata": {
    "collapsed": false
   },
   "outputs": [],
   "source": [
    "N = 200\n",
    "A = zeros(N,N)\n",
    "δx = 2*pi/N\n",
    "\n",
    "for i=2:N-1\n",
    "    A[i,i] = -2\n",
    "    A[i,i+1] = 1\n",
    "    A[i,i-1] = 1\n",
    "end"
   ]
  },
  {
   "cell_type": "markdown",
   "metadata": {},
   "source": [
    "Set the boundary conditions."
   ]
  },
  {
   "cell_type": "code",
   "execution_count": 20,
   "metadata": {
    "collapsed": false
   },
   "outputs": [
    {
     "output_type": "execute_result",
     "data": {
      "text/plain": [
       "1"
      ]
     },
     "metadata": {},
     "execution_count": 20
    }
   ],
   "source": [
    "A[1,1] = -2; A[1,2] = 1; A[1,N] = 1\n",
    "A[N,N] = -2; A[N,N-1] = 1; A[N,1] = 1"
   ]
  },
  {
   "cell_type": "markdown",
   "metadata": {},
   "source": [
    "Element wise operation."
   ]
  },
  {
   "cell_type": "code",
   "execution_count": 21,
   "metadata": {
    "collapsed": false
   },
   "outputs": [
    {
     "output_type": "execute_result",
     "data": {
      "text/plain": [
       "200×200 Array{Float64,2}:\n",
       " -2026.42   1013.21      0.0       0.0   …      0.0       0.0    1013.21\n",
       "  1013.21  -2026.42   1013.21      0.0          0.0       0.0       0.0\n",
       "     0.0    1013.21  -2026.42   1013.21         0.0       0.0       0.0\n",
       "     0.0       0.0    1013.21  -2026.42         0.0       0.0       0.0\n",
       "     0.0       0.0       0.0    1013.21         0.0       0.0       0.0\n",
       "     0.0       0.0       0.0       0.0   …      0.0       0.0       0.0\n",
       "     0.0       0.0       0.0       0.0          0.0       0.0       0.0\n",
       "     0.0       0.0       0.0       0.0          0.0       0.0       0.0\n",
       "     0.0       0.0       0.0       0.0          0.0       0.0       0.0\n",
       "     0.0       0.0       0.0       0.0          0.0       0.0       0.0\n",
       "     0.0       0.0       0.0       0.0   …      0.0       0.0       0.0\n",
       "     0.0       0.0       0.0       0.0          0.0       0.0       0.0\n",
       "     0.0       0.0       0.0       0.0          0.0       0.0       0.0\n",
       "     ⋮                                   ⋱                      \n",
       "     0.0       0.0       0.0       0.0          0.0       0.0       0.0\n",
       "     0.0       0.0       0.0       0.0          0.0       0.0       0.0\n",
       "     0.0       0.0       0.0       0.0   …      0.0       0.0       0.0\n",
       "     0.0       0.0       0.0       0.0          0.0       0.0       0.0\n",
       "     0.0       0.0       0.0       0.0          0.0       0.0       0.0\n",
       "     0.0       0.0       0.0       0.0          0.0       0.0       0.0\n",
       "     0.0       0.0       0.0       0.0          0.0       0.0       0.0\n",
       "     0.0       0.0       0.0       0.0   …      0.0       0.0       0.0\n",
       "     0.0       0.0       0.0       0.0       1013.21      0.0       0.0\n",
       "     0.0       0.0       0.0       0.0      -2026.42   1013.21      0.0\n",
       "     0.0       0.0       0.0       0.0       1013.21  -2026.42   1013.21\n",
       "  1013.21      0.0       0.0       0.0          0.0    1013.21  -2026.42"
      ]
     },
     "metadata": {},
     "execution_count": 21
    }
   ],
   "source": [
    "A = A ./ δx^2"
   ]
  },
  {
   "cell_type": "markdown",
   "metadata": {},
   "source": [
    "Compute the eigenvalue (d) and eigenvectors (v)."
   ]
  },
  {
   "cell_type": "code",
   "execution_count": 22,
   "metadata": {
    "collapsed": false
   },
   "outputs": [
    {
     "output_type": "error",
     "ename": "LoadError",
     "evalue": "UndefVarError: eig not defined",
     "traceback": [
      "UndefVarError: eig not defined",
      "",
      "Stacktrace:",
      " [1] top-level scope at In[22]:1",
      " [2] include_string(::Function, ::Module, ::String, ::String) at ./loading.jl:1091"
     ]
    }
   ],
   "source": [
    "d,v = eig(A)"
   ]
  },
  {
   "cell_type": "markdown",
   "metadata": {},
   "source": [
    "Make a quick plot."
   ]
  },
  {
   "cell_type": "code",
   "execution_count": 23,
   "metadata": {
    "collapsed": false
   },
   "outputs": [
    {
     "output_type": "error",
     "ename": "LoadError",
     "evalue": "UndefVarError: v not defined",
     "traceback": [
      "UndefVarError: v not defined",
      "",
      "Stacktrace:",
      " [1] top-level scope at In[23]:1",
      " [2] include_string(::Function, ::Module, ::String, ::String) at ./loading.jl:1091"
     ]
    }
   ],
   "source": [
    "plot(x=collect(1:N),y=v[:,N-1])"
   ]
  },
  {
   "cell_type": "markdown",
   "metadata": {},
   "source": [
    "d²/dx² sin(x) = λ sin(x) with λ = -1"
   ]
  },
  {
   "cell_type": "code",
   "execution_count": 24,
   "metadata": {
    "collapsed": false
   },
   "outputs": [
    {
     "output_type": "error",
     "ename": "LoadError",
     "evalue": "UndefVarError: d not defined",
     "traceback": [
      "UndefVarError: d not defined",
      "",
      "Stacktrace:",
      " [1] top-level scope at In[24]:1",
      " [2] include_string(::Function, ::Module, ::String, ::String) at ./loading.jl:1091"
     ]
    }
   ],
   "source": [
    "d[N-1]"
   ]
  },
  {
   "cell_type": "markdown",
   "metadata": {},
   "source": [
    "And d²/dx² sin(2x) = λ sin(2x)"
   ]
  },
  {
   "cell_type": "code",
   "execution_count": 25,
   "metadata": {
    "collapsed": false
   },
   "outputs": [
    {
     "output_type": "error",
     "ename": "LoadError",
     "evalue": "UndefVarError: v not defined",
     "traceback": [
      "UndefVarError: v not defined",
      "",
      "Stacktrace:",
      " [1] top-level scope at In[25]:1",
      " [2] include_string(::Function, ::Module, ::String, ::String) at ./loading.jl:1091"
     ]
    }
   ],
   "source": [
    "plot(x=collect(1:N),y=v[:,N-3])"
   ]
  },
  {
   "cell_type": "code",
   "execution_count": null,
   "metadata": {
    "collapsed": true
   },
   "outputs": [],
   "source": []
  }
 ],
 "metadata": {
  "kernelspec": {
   "name": "julia-1.5",
   "display_name": "Julia 1.5.2",
   "language": "julia"
  },
  "language_info": {
   "file_extension": ".jl",
   "mimetype": "application/julia",
   "name": "julia",
   "version": "3.8.2-final"
  }
 },
 "nbformat": 4,
 "nbformat_minor": 0
}