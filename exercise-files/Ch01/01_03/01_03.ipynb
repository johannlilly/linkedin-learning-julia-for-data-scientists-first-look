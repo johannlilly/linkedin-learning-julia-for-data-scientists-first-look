{
 "cells": [
  {
   "cell_type": "markdown",
   "metadata": {},
   "source": [
    "# Julia Types\n",
    "\n",
    "We'll create a simple parametric type that allows us to fit polynomials to data like `y = ax + bx^2 + ...`. We'll first write a new type and then overload methods for it. Finally, we'll graph the results of our work, which requires that we install `Gadfly`.\n",
    "\n",
    "## Gadfly\n",
    "\n",
    "`Gadfly` is the most common package for graphics in Julia, along the lines of `matplotlib` for Python or `ggplot2` for R. However, it is not installed in Julia or JuliaBox by default. The instructions for installation are a little different for JuliaBox than for IJulia (i.e., the local Jupyter version of Julia).\n",
    "\n",
    "### Installing Gadfly in JuliaBox\n",
    "\n",
    "To install `Gadfly` in JuliaBox, do the following:\n",
    "\n",
    "1. Return to the JuliaBox tab\n",
    "1. On the top menu, click \"Console\"\n",
    "1. Enter `julia` to get the Julia prompt\n",
    "1. Enter `Pkg.add(\"Gadfly\")` (Note: this may take a while)\n",
    "1. Optionally, enter `using Gadfly` to precompile things (and this may also take a while)\n",
    "1. You may need to close the Julia kernel and close the JuliaBox tabs and restart.\n",
    "1. Then return to this script and start in the next cell.\n",
    "\n",
    "### Installing Gadfly in IJulia\n",
    "\n",
    "To install `Gadfly` in IJulia, do the following:\n",
    "\n",
    "1. Enter `Pkg.add(\"Gadfly\")` (Note: this may take a while)\n",
    "1. Enter `using Gadfly` to precompile things (and this may also take a while)"
   ]
  },
  {
   "cell_type": "code",
   "execution_count": 1,
   "metadata": {
    "collapsed": false
   },
   "outputs": [
    {
     "output_type": "error",
     "ename": "LoadError",
     "evalue": "UndefVarError: Pkg not defined",
     "traceback": [
      "UndefVarError: Pkg not defined",
      "",
      "Stacktrace:",
      " [1] top-level scope at In[1]:1",
      " [2] include_string(::Function, ::Module, ::String, ::String) at ./loading.jl:1091"
     ]
    }
   ],
   "source": [
    "using Pkg\n",
    "Pkg.add(\"Gadfly\")"
   ]
  },
  {
   "cell_type": "code",
   "execution_count": null,
   "metadata": {
    "collapsed": false,
    "scrolled": false
   },
   "outputs": [],
   "source": [
    "using Gadfly"
   ]
  },
  {
   "cell_type": "markdown",
   "metadata": {},
   "source": [
    "## Define the new type\n",
    "We'll define a family of types, parametrized by the degree of the polynomial N. As a note, we could define it as `PolynomialModel{T<:AbstractFloat,N}`, but for simplicity we will just use a single parameter and fix everything to Float64."
   ]
  },
  {
   "cell_type": "code",
   "execution_count": null,
   "metadata": {
    "collapsed": false
   },
   "outputs": [],
   "source": [
    "type PolynomialModel{N}\n",
    "    x::Array{Float64,1}\n",
    "    y::Array{Float64,1}\n",
    "    coeff::Array{Float64,1}\n",
    "end"
   ]
  },
  {
   "cell_type": "markdown",
   "metadata": {},
   "source": [
    "Next, define a constructor that calls the default one. "
   ]
  },
  {
   "cell_type": "code",
   "execution_count": null,
   "metadata": {
    "collapsed": false
   },
   "outputs": [],
   "source": [
    "PolynomialModel(x::Array{Float64,1},y::Array{Float64,1},N::Int) =\n",
    "    PolynomialModel{N}(x,y,rand(N+1))"
   ]
  },
  {
   "cell_type": "markdown",
   "metadata": {},
   "source": [
    "Then define a second constructor so we can use ranges. Note that types are usually wrapped in a module and exported, so it's easier to modify them."
   ]
  },
  {
   "cell_type": "code",
   "execution_count": null,
   "metadata": {
    "collapsed": false,
    "scrolled": true
   },
   "outputs": [],
   "source": [
    "PolynomialModel(x::LinSpace,y::Array{Float64,1},N::Int) = \n",
    "    PolynomialModel(collect(x),y,N)"
   ]
  },
  {
   "cell_type": "markdown",
   "metadata": {},
   "source": [
    "## Use the new type\n",
    "\n",
    "We create some data by getting 100 uniformly distributed points on the X axis and then getting Y scores with a polynomial function and random noise. We'll then call the new function and fit the data with a second degree polynomial (although the data was created with a third degree)."
   ]
  },
  {
   "cell_type": "code",
   "execution_count": null,
   "metadata": {
    "collapsed": false,
    "scrolled": true
   },
   "outputs": [],
   "source": [
    "x = linspace(-6,6,100)\n",
    "y = x + 2x.^2 - 0.5x.^3 + 12*rand(100)\n",
    "m = PolynomialModel(x,y,2)"
   ]
  },
  {
   "cell_type": "markdown",
   "metadata": {},
   "source": [
    "We can clean up the output by adding a method to Base.show. First, explicitly import show and overload call."
   ]
  },
  {
   "cell_type": "code",
   "execution_count": null,
   "metadata": {
    "collapsed": false
   },
   "outputs": [],
   "source": [
    "import Base.show, Base.call "
   ]
  },
  {
   "cell_type": "markdown",
   "metadata": {},
   "source": [
    "Write a parametric method, so we can access N."
   ]
  },
  {
   "cell_type": "code",
   "execution_count": null,
   "metadata": {
    "collapsed": false
   },
   "outputs": [],
   "source": [
    "function show{N}(io::IO,p::PolynomialModel{N})\n",
    "    print(io,\n",
    "\"Polynomial Model of degree $N\n",
    "Coefficients : $(m.coeff)\"\n",
    "    )\n",
    "end"
   ]
  },
  {
   "cell_type": "markdown",
   "metadata": {},
   "source": [
    "Look at the cleaner output for the polynomial model."
   ]
  },
  {
   "cell_type": "code",
   "execution_count": null,
   "metadata": {
    "collapsed": false
   },
   "outputs": [],
   "source": [
    "m"
   ]
  },
  {
   "cell_type": "markdown",
   "metadata": {},
   "source": [
    "### Overload the call method\n",
    "\n",
    "In order to evaluate the model, we'll overload the call method so we can write `m(xi)` to get the value of the polynomial at position x<sub>i</sub>."
   ]
  },
  {
   "cell_type": "code",
   "execution_count": null,
   "metadata": {
    "collapsed": false
   },
   "outputs": [],
   "source": [
    "function call{N}(m::PolynomialModel{N}, xi::Float64)\n",
    "    s = zero(Float64) # It's usually better to use zero, so we don't accidentally write 0 (Int)\n",
    "    for p=0:N\n",
    "        s += xi^p * m.coeff[p+1]\n",
    "    end\n",
    "    s\n",
    "end"
   ]
  },
  {
   "cell_type": "markdown",
   "metadata": {},
   "source": [
    "For integer input."
   ]
  },
  {
   "cell_type": "code",
   "execution_count": null,
   "metadata": {
    "collapsed": false
   },
   "outputs": [],
   "source": [
    "call{N}(m::PolynomialModel{N}, xi::Int) = call(m,Float64(xi))"
   ]
  },
  {
   "cell_type": "markdown",
   "metadata": {},
   "source": [
    "For vectorized input."
   ]
  },
  {
   "cell_type": "code",
   "execution_count": null,
   "metadata": {
    "collapsed": false
   },
   "outputs": [],
   "source": [
    "call{N}(m::PolynomialModel{N}, xi::Array{Float64,1}) = [ m(xi[i])::Float64 for i=1:length(xi) ] "
   ]
  },
  {
   "cell_type": "markdown",
   "metadata": {},
   "source": [
    "And now get the value of the model when x = 1."
   ]
  },
  {
   "cell_type": "code",
   "execution_count": null,
   "metadata": {
    "collapsed": false
   },
   "outputs": [],
   "source": [
    "m(1)"
   ]
  },
  {
   "cell_type": "markdown",
   "metadata": {},
   "source": [
    "## Method for plotting\n",
    "\n",
    "We can also create a method to plot the model and the observed data. We'll use `Gadfly.plot`."
   ]
  },
  {
   "cell_type": "code",
   "execution_count": null,
   "metadata": {
    "collapsed": false
   },
   "outputs": [],
   "source": [
    "function plot(m::PolynomialModel)\n",
    "    Gadfly.plot(\n",
    "        layer(x=m.x,y=m.y,Geom.PointGeometry),\n",
    "        layer(x=m.x,y=m(m.x),Geom.LineGeometry,Theme(default_color=colorant\"black\"))\n",
    "    )\n",
    "end"
   ]
  },
  {
   "cell_type": "markdown",
   "metadata": {},
   "source": [
    "### Initial plot\n",
    "\n",
    "And call the method to plot the results. (This can take a moment.)"
   ]
  },
  {
   "cell_type": "code",
   "execution_count": null,
   "metadata": {
    "collapsed": false
   },
   "outputs": [],
   "source": [
    "plot(m)"
   ]
  },
  {
   "cell_type": "markdown",
   "metadata": {},
   "source": [
    "But the method doesn't fit our artificial data well, so we can add another method to fit our model to the data. To do this, the method will need to need to solve the equation Y = X<sup>c</sup>.\n",
    "\n",
    "As a note, the backslash operator \\ solves the linear equation using the proper algorithm depending on the structure of X."
   ]
  },
  {
   "cell_type": "code",
   "execution_count": null,
   "metadata": {
    "collapsed": false
   },
   "outputs": [],
   "source": [
    "function fit{N}(m::PolynomialModel{N})\n",
    "    Nd = length(m.y)\n",
    "    X = zeros(Nd,N+1)\n",
    "    for p = 0:N\n",
    "        X[:,p+1] = m.x.^p\n",
    "    end\n",
    "    m.coeff = X \\ m.y\n",
    "end"
   ]
  },
  {
   "cell_type": "markdown",
   "metadata": {},
   "source": [
    "### Final plot\n",
    "\n",
    "Now we can see how well the new method fits the observed data."
   ]
  },
  {
   "cell_type": "code",
   "execution_count": null,
   "metadata": {
    "collapsed": false
   },
   "outputs": [],
   "source": [
    "m = PolynomialModel(x,y,3)\n",
    "fit(m)\n",
    "plot(m)"
   ]
  },
  {
   "cell_type": "code",
   "execution_count": null,
   "metadata": {
    "collapsed": true
   },
   "outputs": [],
   "source": []
  }
 ],
 "metadata": {
  "anaconda-cloud": {},
  "kernelspec": {
   "name": "julia-1.5",
   "display_name": "Julia 1.5.2",
   "language": "julia"
  },
  "language_info": {
   "file_extension": ".jl",
   "mimetype": "application/julia",
   "name": "julia",
   "version": "3.8.2-final"
  }
 },
 "nbformat": 4,
 "nbformat_minor": 0
}