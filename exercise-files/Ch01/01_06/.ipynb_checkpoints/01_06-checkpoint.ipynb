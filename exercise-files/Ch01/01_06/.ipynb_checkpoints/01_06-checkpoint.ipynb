{
 "cells": [
  {
   "cell_type": "markdown",
   "metadata": {},
   "source": [
    "# Multiple Dispatch \n",
    "## Basics"
   ]
  },
  {
   "cell_type": "markdown",
   "metadata": {},
   "source": [
    "\"Any\" is at the top of the type hierarchy in Julia. For this example, we'll create a generic function and start specifying types that are more and more specific."
   ]
  },
  {
   "cell_type": "code",
   "execution_count": null,
   "metadata": {
    "collapsed": false
   },
   "outputs": [],
   "source": [
    "f(x) = \"Any\"\n",
    "f(x::Int) = \"Int\""
   ]
  },
  {
   "cell_type": "markdown",
   "metadata": {},
   "source": [
    "We'll test the function with a few examples."
   ]
  },
  {
   "cell_type": "code",
   "execution_count": null,
   "metadata": {
    "collapsed": false
   },
   "outputs": [],
   "source": [
    "f(\"two\")"
   ]
  },
  {
   "cell_type": "code",
   "execution_count": null,
   "metadata": {
    "collapsed": false
   },
   "outputs": [],
   "source": [
    "f(2.0)"
   ]
  },
  {
   "cell_type": "code",
   "execution_count": null,
   "metadata": {
    "collapsed": false
   },
   "outputs": [],
   "source": [
    "f(2)"
   ]
  },
  {
   "cell_type": "markdown",
   "metadata": {},
   "source": [
    "\"Multiple dispatch,\" as opposed to single dispatch, means that all of the parameter's types are taken into account and not just the most specific type.\n",
    "\n",
    "We'll create two more methods for our function. These methods rely on combinations of increasingly specific types."
   ]
  },
  {
   "cell_type": "code",
   "execution_count": null,
   "metadata": {
    "collapsed": false
   },
   "outputs": [],
   "source": [
    "f(x::Int,y) = \"Int and Any\"\n",
    "f(x::Int,y::AbstractString) = \"Int and String\""
   ]
  },
  {
   "cell_type": "markdown",
   "metadata": {},
   "source": [
    "We'll test with a few more examples."
   ]
  },
  {
   "cell_type": "code",
   "execution_count": null,
   "metadata": {
    "collapsed": false
   },
   "outputs": [],
   "source": [
    "f(2,sum)"
   ]
  },
  {
   "cell_type": "code",
   "execution_count": null,
   "metadata": {
    "collapsed": false
   },
   "outputs": [],
   "source": [
    "f(2,\"1\")"
   ]
  },
  {
   "cell_type": "markdown",
   "metadata": {},
   "source": [
    "And here's the summary of our function with all of its methods."
   ]
  },
  {
   "cell_type": "code",
   "execution_count": null,
   "metadata": {
    "collapsed": false
   },
   "outputs": [],
   "source": [
    "methods(f)"
   ]
  },
  {
   "cell_type": "markdown",
   "metadata": {},
   "source": [
    "## Using multiple dispatch"
   ]
  },
  {
   "cell_type": "markdown",
   "metadata": {},
   "source": [
    "Let's say we want to write a function that can take as input a matrix that can be either full or sparse. In a language that *doesn't* use multiple dispatch, we could write it this way:"
   ]
  },
  {
   "cell_type": "code",
   "execution_count": null,
   "metadata": {
    "collapsed": false
   },
   "outputs": [],
   "source": [
    "function foo(A)\n",
    "    if isparse(A)\n",
    "        \"Sparse\"\n",
    "    else\n",
    "        \"Full\"\n",
    "    end\n",
    "end"
   ]
  },
  {
   "cell_type": "markdown",
   "metadata": {},
   "source": [
    "... or write it this way..."
   ]
  },
  {
   "cell_type": "code",
   "execution_count": null,
   "metadata": {
    "collapsed": false
   },
   "outputs": [],
   "source": [
    "foo(A) = \"Full\"\n",
    "foo_sparse(A) = \"Sparse\""
   ]
  },
  {
   "cell_type": "markdown",
   "metadata": {},
   "source": [
    "In a traditional object oriented language we would add methods to the matrix and sparse matrix classes. In Julia we can define them this way. (Note: \"CSC\" stands for \"Compressed Sparse Column.\")"
   ]
  },
  {
   "cell_type": "code",
   "execution_count": null,
   "metadata": {
    "collapsed": false
   },
   "outputs": [],
   "source": [
    "foo(A::Matrix) = \"Full\"\n",
    "foo(A::SparseMatrixCSC) = \"Sparse\""
   ]
  },
  {
   "cell_type": "markdown",
   "metadata": {},
   "source": [
    "Testing with examples of full and sparse matrices."
   ]
  },
  {
   "cell_type": "code",
   "execution_count": null,
   "metadata": {
    "collapsed": false
   },
   "outputs": [],
   "source": [
    "foo(rand(10,10))"
   ]
  },
  {
   "cell_type": "code",
   "execution_count": null,
   "metadata": {
    "collapsed": false
   },
   "outputs": [],
   "source": [
    "foo(sparse(rand(10,10)))"
   ]
  },
  {
   "cell_type": "markdown",
   "metadata": {
    "collapsed": false
   },
   "source": [
    "## Collecting symbols in a tree\n",
    "\n",
    "This example that makes heavy use of dispatch combined with recursion. Let's say we want to parse a Julia file and collect all the variable names, which could then be used to provide autocompletion in a text editor.\n",
    "\n",
    "In Julia an expression is a *tree* – an Abstract Syntax Tree, or AST — that contains a piece of code. Children in the tree can be other expressions, symbols, or meta-data such as line numbers.\n",
    "\n",
    "For this example, we will first create a tree by defining an expression. Second, we will traverse the tree and collect all the symbols it contains.\n",
    "\n",
    "### Defining an expression"
   ]
  },
  {
   "cell_type": "code",
   "execution_count": null,
   "metadata": {
    "collapsed": false
   },
   "outputs": [],
   "source": [
    "ex = :(y = sin(x))"
   ]
  },
  {
   "cell_type": "markdown",
   "metadata": {},
   "source": [
    "### Creating the tree\n",
    "\n",
    "We'll use `dump()` to display the tree. In this tree, most of the leaves are symbols."
   ]
  },
  {
   "cell_type": "code",
   "execution_count": null,
   "metadata": {
    "collapsed": false
   },
   "outputs": [],
   "source": [
    "dump(ex)"
   ]
  },
  {
   "cell_type": "markdown",
   "metadata": {},
   "source": [
    "### Tree searching function\n",
    "\n",
    "Now we can define a function that takes as its argument the expression we created. We then call the function recursively until it finds a symbol, which it will collect in an array."
   ]
  },
  {
   "cell_type": "code",
   "execution_count": null,
   "metadata": {
    "collapsed": false
   },
   "outputs": [],
   "source": [
    "function symbols(ex::Expr)\n",
    "    out = Symbol[]\n",
    "    for child in ex.args\n",
    "        s = symbols(child)\n",
    "        collect_symbols!(out,s)\n",
    "    end\n",
    "    out\n",
    "end"
   ]
  },
  {
   "cell_type": "markdown",
   "metadata": {},
   "source": [
    "If the function finds a symbol, then return it. If it finds anything else, then return nothing."
   ]
  },
  {
   "cell_type": "code",
   "execution_count": null,
   "metadata": {
    "collapsed": false
   },
   "outputs": [],
   "source": [
    "symbols(s::Symbol) = s\n",
    "symbols(s::Any) = nothing"
   ]
  },
  {
   "cell_type": "markdown",
   "metadata": {},
   "source": [
    "If we get a symbol we simply add it to the output. If we get an array of symbols, then we splice it to output so we don't get nested arrays. And if we get nothing, we do nothing."
   ]
  },
  {
   "cell_type": "code",
   "execution_count": null,
   "metadata": {
    "collapsed": false
   },
   "outputs": [],
   "source": [
    "collect_symbols!(out,s::Symbol) = push!(out,s)\n",
    "collect_symbols!(out,s::Array{Symbol,1}) = push!(out,s...)\n",
    "collect_symbols!(out,s::Void) = nothing"
   ]
  },
  {
   "cell_type": "markdown",
   "metadata": {},
   "source": [
    "### Results of the search\n",
    "\n",
    "Reminder: The original expressions was y = sin(x)."
   ]
  },
  {
   "cell_type": "code",
   "execution_count": null,
   "metadata": {
    "collapsed": false,
    "scrolled": true
   },
   "outputs": [],
   "source": [
    "symbols(ex)"
   ]
  },
  {
   "cell_type": "code",
   "execution_count": null,
   "metadata": {
    "collapsed": true
   },
   "outputs": [],
   "source": []
  }
 ],
 "metadata": {
  "anaconda-cloud": {},
  "kernelspec": {
   "display_name": "Julia 0.4.6",
   "language": "julia",
   "name": "julia-0.4"
  },
  "language_info": {
   "file_extension": ".jl",
   "mimetype": "application/julia",
   "name": "julia",
   "version": "0.4.6"
  }
 },
 "nbformat": 4,
 "nbformat_minor": 0
}
