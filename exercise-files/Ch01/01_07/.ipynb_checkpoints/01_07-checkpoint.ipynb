{
 "cells": [
  {
   "cell_type": "markdown",
   "metadata": {},
   "source": [
    "# Macros\n",
    "## Basics: Expressions\n",
    "\n",
    "Expressions are a quoted piece of code, such as the following. Note: This could also be written as : ex = :(x = 2)"
   ]
  },
  {
   "cell_type": "code",
   "execution_count": null,
   "metadata": {
    "collapsed": false
   },
   "outputs": [],
   "source": [
    "ex = quote x=2 end"
   ]
  },
  {
   "cell_type": "markdown",
   "metadata": {},
   "source": [
    "Then evaluate the expression."
   ]
  },
  {
   "cell_type": "code",
   "execution_count": null,
   "metadata": {
    "collapsed": false
   },
   "outputs": [],
   "source": [
    "eval(ex)"
   ]
  },
  {
   "cell_type": "markdown",
   "metadata": {},
   "source": [
    "Or call the constructor explicitly."
   ]
  },
  {
   "cell_type": "code",
   "execution_count": null,
   "metadata": {
    "collapsed": false
   },
   "outputs": [],
   "source": [
    "ex = Expr(:call,print,\"hello\")\n",
    "eval(ex)"
   ]
  },
  {
   "cell_type": "markdown",
   "metadata": {},
   "source": [
    "Expressions can be easily modified."
   ]
  },
  {
   "cell_type": "code",
   "execution_count": null,
   "metadata": {
    "collapsed": false
   },
   "outputs": [],
   "source": [
    "ex.args[2] = \"world\"\n",
    "eval(ex)"
   ]
  },
  {
   "cell_type": "markdown",
   "metadata": {},
   "source": [
    "## Macros\n",
    "\n",
    "A macro takes an expression at compile time and returns another expression. That is, it transforms the code. Here is a simple macro."
   ]
  },
  {
   "cell_type": "code",
   "execution_count": null,
   "metadata": {
    "collapsed": false,
    "scrolled": true
   },
   "outputs": [],
   "source": [
    "@elapsed x=2"
   ]
  },
  {
   "cell_type": "markdown",
   "metadata": {},
   "source": [
    "We can expand the macro @elapsed to see what's inside it. It takes an expression and \"pastes\" a piece of code before and after it to measure the time it took to run. Note that the variables defined by the macro have strange names (#xx#t0), this is called \"macro hygiene\" and prevents variables names within the macro from conflicting with existing ones. "
   ]
  },
  {
   "cell_type": "code",
   "execution_count": null,
   "metadata": {
    "collapsed": false
   },
   "outputs": [],
   "source": [
    "macroexpand(:(@elapsed x=2))"
   ]
  },
  {
   "cell_type": "markdown",
   "metadata": {},
   "source": [
    "Here is the definition of `elapsed` from Base.\n",
    "\n",
    "~~~~ \n",
    "macro elapsed(ex)\n",
    "    quote\n",
    "        local t0 = time_ns()\n",
    "        local val = $(esc(ex))\n",
    "        (time_ns()-t0)/1e9\n",
    "    end\n",
    "end\n",
    "~~~~ \n",
    "\n",
    "The $ sign \"interpolates\" the variable ex into the expression. (Without it the generated code would be \"val = esc(ex)\" and not \"val = (x=2)\"). The esc function prevent the macro hygiene pass (x is not renamed)"
   ]
  },
  {
   "cell_type": "markdown",
   "metadata": {},
   "source": [
    "## An Example\n",
    "\n",
    "In optimization problems one often has to define an error/objective function in order to solve maximization/minimization problems. It takes as input a vector of parameters and returns a scalar."
   ]
  },
  {
   "cell_type": "code",
   "execution_count": null,
   "metadata": {
    "collapsed": false
   },
   "outputs": [],
   "source": [
    "model(x,p) = p[1]*exp(-p[2]*x)\n",
    "error(p) = sum( (data-model(x,p)).^2 )"
   ]
  },
  {
   "cell_type": "markdown",
   "metadata": {},
   "source": [
    "However, writing functions in terms of the vector of parameters can be tedious and difficult to read, especially when you have many parameters and you want to quickly experiment with different models.\n",
    "\n",
    "One solution is to \"unpack\" the parameters from the vector"
   ]
  },
  {
   "cell_type": "code",
   "execution_count": null,
   "metadata": {
    "collapsed": false
   },
   "outputs": [],
   "source": [
    "function model(x,p) \n",
    "    α = p[1]\n",
    "    γ = p[2]      \n",
    "    α*exp(-γ*x)\n",
    "end"
   ]
  },
  {
   "cell_type": "markdown",
   "metadata": {},
   "source": [
    "But again each time you modify your model you will need to rewrite the unpack part. Typos can easily occur, especially if you have 30 parameters instead of 2.\n",
    "\n",
    "We can write a macro to make this easier and more robust. The macro @unpack will take a single argument (p) and return the appropriate assignments.\n",
    "\n",
    "First we define a vector of symbols describing our parameters"
   ]
  },
  {
   "cell_type": "code",
   "execution_count": null,
   "metadata": {
    "collapsed": false
   },
   "outputs": [],
   "source": [
    "const model_parameters = [:α,:γ]"
   ]
  },
  {
   "cell_type": "markdown",
   "metadata": {},
   "source": [
    "And now define the macro."
   ]
  },
  {
   "cell_type": "code",
   "execution_count": null,
   "metadata": {
    "collapsed": true
   },
   "outputs": [],
   "source": [
    "macro unpack(ex) # ex will be the name of the vector of parameters (e.g. \"p\")\n",
    "    \n",
    "    # first we build a vector of expressions: \"α = p[1]\", ...\n",
    "    vars = [:($(model_parameters[i]) = $ex[$i]) for i=1:length(model_parameters) ]\n",
    "    \n",
    "    # we finally \"splice\" them in a block and escape it\n",
    "    esc( Expr(:block, vars...) ) \n",
    "end"
   ]
  },
  {
   "cell_type": "markdown",
   "metadata": {},
   "source": [
    "Test the new macro."
   ]
  },
  {
   "cell_type": "code",
   "execution_count": null,
   "metadata": {
    "collapsed": false
   },
   "outputs": [],
   "source": [
    "p = [1 2 3]\n",
    "@unpack p\n",
    "α"
   ]
  },
  {
   "cell_type": "markdown",
   "metadata": {},
   "source": [
    "Take a look at the generated code."
   ]
  },
  {
   "cell_type": "code",
   "execution_count": null,
   "metadata": {
    "collapsed": false
   },
   "outputs": [],
   "source": [
    "macroexpand( :(@unpack p) )"
   ]
  },
  {
   "cell_type": "markdown",
   "metadata": {},
   "source": [
    "We can now write our model."
   ]
  },
  {
   "cell_type": "code",
   "execution_count": null,
   "metadata": {
    "collapsed": false
   },
   "outputs": [],
   "source": [
    "function model(x,p) \n",
    "    @unpack p \n",
    "    α*exp(-γ*x)\n",
    "end"
   ]
  },
  {
   "cell_type": "markdown",
   "metadata": {},
   "source": [
    "This makes modifying it easy and robust."
   ]
  },
  {
   "cell_type": "code",
   "execution_count": null,
   "metadata": {
    "collapsed": false
   },
   "outputs": [],
   "source": [
    "const model_parameters = [:α,:offset,:γ]\n",
    "\n",
    "function model(x,p) \n",
    "    @unpack p \n",
    "    α*exp(-γ*x) + offset\n",
    "end"
   ]
  },
  {
   "cell_type": "code",
   "execution_count": null,
   "metadata": {
    "collapsed": false
   },
   "outputs": [],
   "source": [
    "macroexpand( :(@unpack p) )"
   ]
  },
  {
   "cell_type": "markdown",
   "metadata": {
    "collapsed": true
   },
   "source": [
    "We could write a @pack macro that does the inverse operation, or write a custom type that describe the model parameters, which would allow to extend it to vectors or matrices."
   ]
  }
 ],
 "metadata": {
  "anaconda-cloud": {},
  "kernelspec": {
   "display_name": "Julia 0.4.6",
   "language": "julia",
   "name": "julia-0.4"
  },
  "language_info": {
   "file_extension": ".jl",
   "mimetype": "application/julia",
   "name": "julia",
   "version": "0.4.6"
  }
 },
 "nbformat": 4,
 "nbformat_minor": 0
}
