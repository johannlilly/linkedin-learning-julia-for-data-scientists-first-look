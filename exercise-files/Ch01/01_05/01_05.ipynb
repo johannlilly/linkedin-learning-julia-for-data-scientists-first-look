{
 "cells": [
  {
   "cell_type": "markdown",
   "metadata": {},
   "source": [
    "# Using loops in Julia\n",
    "\n",
    "![Image of Fruitfly](https://upload.wikimedia.org/wikipedia/commons/c/cb/Drosophila_pseudoobscura-Male.png)\n",
    "\n",
    "The Bicoid protein is expressed in the fruit fly embryo (Drosophila melanogaster) with a concentration gradient that is maximal in the anterior pole (head) and decreases toward the posterior one (tail). This gradient causes the differential expression of other genes that will eventually lead to the formation of the typical segmented body of the fly. This is one of the most studied case of pattern formation or morphogensis in biology.\n",
    "\n",
    "Here we will look at the concentration of Bicoid along the anteroposterior axis, and try to understand how such a gradient can be established using a simple model. This example illustrates how one can easily implement a simple mathematical model in Julia directly using for loops, without having to worry about the peformance issues that languages that rely on vectorization have. We will also use in-place modification of inputs and disable bounds checking.\n",
    "\n",
    "## Gadfly\n",
    "Install `Gadfly` (for plotting) if you don't already have it."
   ]
  },
  {
   "cell_type": "code",
   "execution_count": null,
   "metadata": {
    "collapsed": true
   },
   "outputs": [],
   "source": [
    "Pkg.add(\"Gadfly\")"
   ]
  },
  {
   "cell_type": "markdown",
   "metadata": {},
   "source": [
    "Import `Gadfly`."
   ]
  },
  {
   "cell_type": "code",
   "execution_count": null,
   "metadata": {
    "collapsed": false
   },
   "outputs": [],
   "source": [
    "using Gadfly"
   ]
  },
  {
   "cell_type": "markdown",
   "metadata": {},
   "source": [
    "## Data"
   ]
  },
  {
   "cell_type": "code",
   "execution_count": null,
   "metadata": {
    "collapsed": false
   },
   "outputs": [],
   "source": [
    "include(\"data.jl\")\n",
    "plot(x=x, y=bcd, Guide.xlabel(\"A-P axis position\"), Guide.ylabel(\"Bcd concentration\"))"
   ]
  },
  {
   "cell_type": "markdown",
   "metadata": {},
   "source": [
    "The gradient looks like an exponential decay, let's make a model for it.\n",
    "\n",
    "We will assume that the protein is produced at the anterior pole and that it diffuses and is degraded in the rest of the egg.\n",
    "\n",
    "We first we need to compute the second derivative (or Laplacian Δ) of the concentration, so we can simulate diffusion. We use a simple finite differences scheme. The function is annotated with a conventional ! to indicate that it modifies the array d.\n",
    "\n",
    "Note: Julia provides autocompletion for mathematical symbols, e.g. type \"\\Delta\" and press tab."
   ]
  },
  {
   "cell_type": "code",
   "execution_count": null,
   "metadata": {
    "collapsed": false
   },
   "outputs": [],
   "source": [
    "function Δ!(f,δx,d)  # Pass the output vector as argument to avoid allocations\n",
    "    Nx = length(f) \n",
    "    δx = δx^2\n",
    "    @inbounds for i=2:Nx-1  # Disable bounds checking\n",
    "        d[i] = (f[i+1] -2*f[i] + f[i-1])/δx\n",
    "    end\n",
    "    d[1] = (f[2] - f[1])/δx  # Boundary condition f[-1] = f[1]\n",
    "    d[Nx] = (f[Nx-1] -f[Nx])/δx  # f[Nx] = f[Nx+1]\n",
    "end"
   ]
  },
  {
   "cell_type": "markdown",
   "metadata": {},
   "source": [
    "We can then simulate the following degration-diffusion equation, with a localized source, using the Euler method: f'(x,t) = αδ(x-x0) -γf(x,t) + DΔf(x,t)"
   ]
  },
  {
   "cell_type": "code",
   "execution_count": null,
   "metadata": {
    "collapsed": false
   },
   "outputs": [],
   "source": [
    "function simulate(f0,Nt,δt,δx,α,γ,D)\n",
    "    \n",
    "    Nx = length(f0)\n",
    "    f = f0        # Keep the last time point (near steady state)\n",
    "    d = zeros(Nx) # Vector to store the Laplacian\n",
    "    \n",
    "    for t=2:Nt\n",
    "        Δ!(f,δx,d)\n",
    "        f[1] += δt*α/δx # Production\n",
    "        @inbounds for i=1:Nx \n",
    "            f[i] += δt*( D*d[i] -γ*f[i] ) # Pegradation and diffusion\n",
    "        end\n",
    "    end\n",
    "    f\n",
    "end"
   ]
  },
  {
   "cell_type": "markdown",
   "metadata": {},
   "source": [
    "Finally we can simulate the model for a given set of parameters and check if it matches the data. One can play with the parameters to improve the fit. \n",
    "\n",
    "Because Julia's loops are fast (the simulation runs under 0.2 second, with Nt*Nx = 4e6) it would be easy to write an error (likelihood) function and to fit the model to the data, or to extend the model to include mRNA, or other genes."
   ]
  },
  {
   "cell_type": "code",
   "execution_count": null,
   "metadata": {
    "collapsed": false,
    "scrolled": true
   },
   "outputs": [],
   "source": [
    "Nx = 200\n",
    "fx = collect(linspace(minimum(x),maximum(x),Nx))\n",
    "δt = 0.01\n",
    "Nt = round(200/δt) #simulate for 200 minutes\n",
    "δx = fx[2]-fx[1]\n",
    "\n",
    "#parameters\n",
    "D = 40\n",
    "α = 200\n",
    "γ = 1/65\n",
    "\n",
    "f0 = zeros(Nx)\n",
    "f = simulate(f0,Nt,δt,δx,α,γ,D);\n",
    "    \n",
    "plot(\n",
    "    layer( x=x, y=bcd,Geom.point ),\n",
    "    layer( x=fx, y=f, Geom.line, Theme(default_color=colorant\"black\"))\n",
    ")"
   ]
  },
  {
   "cell_type": "markdown",
   "metadata": {},
   "source": [
    "Because we were able to do in-place modification of the inputs, we use almost no memory allocations. (It's fast!)"
   ]
  },
  {
   "cell_type": "code",
   "execution_count": null,
   "metadata": {
    "collapsed": false
   },
   "outputs": [],
   "source": [
    "@time f = simulate(f0,Nt,δt,δx,α,γ,D);"
   ]
  },
  {
   "cell_type": "code",
   "execution_count": null,
   "metadata": {
    "collapsed": true
   },
   "outputs": [],
   "source": []
  }
 ],
 "metadata": {
  "anaconda-cloud": {},
  "kernelspec": {
   "display_name": "Julia 0.4.6",
   "language": "julia",
   "name": "julia-0.4"
  },
  "language_info": {
   "file_extension": ".jl",
   "mimetype": "application/julia",
   "name": "julia",
   "version": "0.4.6"
  }
 },
 "nbformat": 4,
 "nbformat_minor": 0
}
